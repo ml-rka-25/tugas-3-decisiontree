{
  "cells": [
    {
      "cell_type": "markdown",
      "metadata": {},
      "source": [
        "# 📌 Klasifikasi Credit Score dengan Decision Tree\n",
        "Pada tugas ini, kita akan menggunakan **Credit Score Classification Dataset**. Dataset bisa diakses melalui link berikut:\\\n",
        "🔗 https://www.kaggle.com/datasets/parisrohan/credit-score-classification/data\n",
        "\n",
        "Tujuan utama dari tugas ini adalah membangun model **Decision Tree** untuk memprediksi kategori *Credit Score* (Good, Standard, Poor) berdasarkan fitur keuangan dan demografis.\n",
        "\n",
        "Langkah-langkah yang harus dilakukan antara lain:\n",
        "1. Persiapan Dataset & Eksplorasi Awal\n",
        "- Memuat dataset, melihat struktur data, tipe fitur (numerik atau kategorikal), dan distribusi label.\n",
        "\n",
        "2. Preprocessing\n",
        "- Menangani missing value, encoding fitur kategorikal, dan normalisasi/standardisasi jika diperlukan.\n",
        "\n",
        "3. Eksperimen Model\n",
        "- Bangun model Decision Tree dan latih menggunakan data training.\n",
        "- Eksperimen dapat dilakukan dengan pemilihan fitur atau tuning hyperparameter seperti `max_depth`, `min_samples_split`, dan lain sebagainya.\n",
        "\n",
        "4. Evaluasi Model\n",
        "- Hitung metrik evaluasi seperti Accuracy, Precision, Recall, F1-Score, serta visualisasikan Confusion Matrix.\n",
        "- Visualisasikan struktur pohon keputusan.\n",
        "\n",
        "5. Analisis & Kesimpulan\n",
        "- Membandingkan performa antar eksperimen parameter maupun fitur.\n",
        "- Menentukan kombinasi terbaik.\n",
        "- Menarik kesimpulan mengenai pengaruh fitur terhadap prediksi Credit Score."
      ]
    },
    {
      "cell_type": "markdown",
      "metadata": {},
      "source": [
        "# 1. Import Library"
      ]
    },
    {
      "cell_type": "code",
      "execution_count": null,
      "metadata": {},
      "outputs": [],
      "source": [
        "import pandas as pd\n",
        "import numpy as np\n",
        "import matplotlib.pyplot as plt\n",
        "import seaborn as sns\n",
        "from sklearn.model_selection import train_test_split\n",
        "from sklearn.preprocessing import LabelEncoder, StandardScaler\n",
        "from sklearn.tree import DecisionTreeClassifier, plot_tree\n",
        "from sklearn.metrics import accuracy_score, classification_report, confusion_matrix\n",
        "import warnings\n",
        "warnings.filterwarnings('ignore')"
      ]
    },
    {
      "cell_type": "markdown",
      "metadata": {},
      "source": [
        "# 2. Load Dataset"
      ]
    },
    {
      "cell_type": "code",
      "execution_count": null,
      "metadata": {},
      "outputs": [],
      "source": [
        "# Sesuaikan path dataset jika di local / kaggle\n",
        "df = pd.read_csv(\"credit_score.csv\")\n",
        "df.head()"
      ]
    },
    {
      "cell_type": "markdown",
      "metadata": {},
      "source": [
        "# 3. Eksplorasi Data"
      ]
    },
    {
      "cell_type": "code",
      "execution_count": null,
      "metadata": {},
      "outputs": [],
      "source": [
        "df.info()\n",
        "df.describe(include='all')\n",
        "df['Credit_Score'].value_counts().plot(kind='bar', title='Distribusi Label')"
      ]
    },
    {
      "cell_type": "markdown",
      "metadata": {},
      "source": [
        "# 4. Data Cleaning & Preprocessing"
      ]
    },
    {
      "cell_type": "code",
      "execution_count": null,
      "metadata": {},
      "outputs": [],
      "source": [
        "# Cek missing values\n",
        "df.isnull().sum()\n",
        "\n",
        "# Isi/Drop missing values sesuai strategi\n",
        "df = df.dropna()\n",
        "\n",
        "# Encoding label target\n",
        "label_encoder = LabelEncoder()\n",
        "df['Credit_Score'] = label_encoder.fit_transform(df['Credit_Score'])\n",
        "\n",
        "# Encoding fitur kategorikal\n",
        "categorical_cols = df.select_dtypes(include=['object']).columns\n",
        "df = pd.get_dummies(df, columns=categorical_cols)\n",
        "\n",
        "df.head()"
      ]
    },
    {
      "cell_type": "markdown",
      "metadata": {},
      "source": [
        "# 5. Feature Engineering & Selection"
      ]
    },
    {
      "cell_type": "code",
      "execution_count": null,
      "metadata": {},
      "outputs": [],
      "source": [
        "X = df.drop('Credit_Score', axis=1)\n",
        "y = df['Credit_Score']\n",
        "\n",
        "# Normalisasi opsional (Decision Tree tidak wajib normalisasi)\n",
        "# scaler = StandardScaler()\n",
        "# X = scaler.fit_transform(X)\n",
        "\n",
        "X_train, X_test, y_train, y_test = train_test_split(X, y, test_size=0.2, random_state=42, stratify=y)\n",
        "X_train.shape, X_test.shape"
      ]
    },
    {
      "cell_type": "markdown",
      "metadata": {},
      "source": [
        "# 6. Training"
      ]
    },
    {
      "cell_type": "code",
      "execution_count": null,
      "metadata": {},
      "outputs": [],
      "source": [
        "dt_model = DecisionTreeClassifier(max_depth=5, random_state=42)\n",
        "dt_model.fit(X_train, y_train)"
      ]
    },
    {
      "cell_type": "markdown",
      "metadata": {},
      "source": [
        "# 7. Evaluation"
      ]
    },
    {
      "cell_type": "code",
      "execution_count": null,
      "metadata": {},
      "outputs": [],
      "source": [
        "y_pred = dt_model.predict(X_test)\n",
        "\n",
        "print(\"Accuracy:\", accuracy_score(y_test, y_pred))\n",
        "print(\"\\nClassification Report:\\n\", classification_report(y_test, y_pred))\n",
        "\n",
        "# Confusion Matrix\n",
        "cm = confusion_matrix(y_test, y_pred)\n",
        "sns.heatmap(cm, annot=True, fmt='d', cmap='Blues')\n",
        "plt.xlabel('Predicted')\n",
        "plt.ylabel('Actual')\n",
        "plt.title('Confusion Matrix')\n",
        "plt.show()\n",
        "\n",
        "# Visualisasi pohon keputusan\n",
        "plt.figure(figsize=(20,10))\n",
        "plot_tree(dt_model, filled=True, feature_names=X.columns, class_names=label_encoder.classes_)\n",
        "plt.show()"
      ]
    },
    {
      "cell_type": "markdown",
      "metadata": {},
      "source": [
        "# 8. Kesimpulan"
      ]
    },
    {
      "cell_type": "markdown",
      "metadata": {},
      "source": [
        "- Analisis performa model berdasarkan metrik evaluasi.\n",
        "- Bandingkan hasil dengan parameter berbeda (`max_depth`, `min_samples_split`, dll.).\n",
        "- Tentukan fitur paling berpengaruh dari visualisasi Decision Tree.\n",
        "- Tarik kesimpulan tentang seberapa baik Decision Tree memprediksi *Credit Score*."
      ]
    }
  ],
  "metadata": {
    "colab": {
      "provenance": []
    },
    "kernelspec": {
      "display_name": "Python 3",
      "name": "python3"
    },
    "language_info": {
      "name": "python"
    }
  },
  "nbformat": 4,
  "nbformat_minor": 0
}
