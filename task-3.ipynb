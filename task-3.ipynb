{
  "cells": [
    {
      "cell_type": "markdown",
      "metadata": {},
      "source": [
        "# 📌 Klasifikasi Pendapatan dengan Decision Tree\n",
        "Pada tugas ini, kita akan menggunakan **Adult Census Income Dataset**. Dataset bisa diakses melalui link berikut:\\\n",
        "🔗 https://www.kaggle.com/datasets/uciml/adult-census-income/data\n",
        "\n",
        "Tujuan utama dari tugas ini adalah membangun model **Decision Tree** untuk memprediksi apakah pendapatan seseorang lebih dari $50K per tahun berdasarkan fitur demografis dan pekerjaan.\n",
        "\n",
        "Langkah-langkah yang harus dilakukan antara lain:\n",
        "\n",
        "1. Persiapan Dataset & Eksplorasi Awal\n",
        "- Memuat dataset, melihat struktur data, tipe fitur (numerik atau kategorikal), dan distribusi label.\n",
        "\n",
        "2. Preprocessing \n",
        "- Memproses data agar siap untuk digunakan dalam model, termasuk menangani missing value, encoding fitur kategorikal, dan normalisasi/standardisasi jika diperlukan.\n",
        "\n",
        "3. Eksperimen Model \n",
        "- Bangun model **Decision Tree Classifier**, lalu latih menggunakan data training.\n",
        "- Eksperimen dapat dilakukan dengan pemilihan subset fitur atau mengatur parameter Decision Tree (seperti `max_depth`, `min_samples_split`, dan lain sebagainya) untuk mengetahui pengaruhnya terhadap performa model.\n",
        "\n",
        "4. Evaluasi Model\n",
        "- Hitung metrik evaluasi seperti Accuracy, Precision, Recall, F1-Score, serta visualisasikan Confusion Matrix.\n",
        "- Visualisasikan struktur pohon keputusan untuk interpretasi.\n",
        "\n",
        "5. Analisis & Kesimpulan\n",
        "- Membandingkan performa antar eksperimen parameter maupun fitur.\n",
        "- Menentukan kombinasi parameter & fitur terbaik.\n",
        "- Menarik kesimpulan mengenai fitur apa yang paling berpengaruh dalam memprediksi pendapatan serta seberapa baik Decision Tree bekerja pada dataset ini."
      ]
    },
    {
      "cell_type": "markdown",
      "metadata": {},
      "source": [
        "# 1. Import Library"
      ]
    },
    {
      "cell_type": "code",
      "execution_count": null,
      "metadata": {},
      "outputs": [],
      "source": []
    },
    {
      "cell_type": "markdown",
      "metadata": {},
      "source": [
        "# 2. Load Dataset"
      ]
    },
    {
      "cell_type": "code",
      "execution_count": null,
      "metadata": {},
      "outputs": [],
      "source": []
    },
    {
      "cell_type": "markdown",
      "metadata": {},
      "source": [
        "# 3. Eksplorasi Data"
      ]
    },
    {
      "cell_type": "code",
      "execution_count": null,
      "metadata": {},
      "outputs": [],
      "source": []
    },
    {
      "cell_type": "markdown",
      "metadata": {},
      "source": [
        "# 4. Data Cleaning & Preprocessing"
      ]
    },
    {
      "cell_type": "code",
      "execution_count": null,
      "metadata": {},
      "outputs": [],
      "source": []
    },
    {
      "cell_type": "markdown",
      "metadata": {},
      "source": [
        "# 5. Feature Engineering & Selection"
      ]
    },
    {
      "cell_type": "code",
      "execution_count": null,
      "metadata": {},
      "outputs": [],
      "source": []
    },
    {
      "cell_type": "markdown",
      "metadata": {},
      "source": [
        "# 6. Training"
      ]
    },
    {
      "cell_type": "code",
      "execution_count": null,
      "metadata": {},
      "outputs": [],
      "source": []
    },
    {
      "cell_type": "markdown",
      "metadata": {},
      "source": [
        "# 7. Evaluation"
      ]
    },
    {
      "cell_type": "code",
      "execution_count": null,
      "metadata": {},
      "outputs": [],
      "source": []
    },
    {
      "cell_type": "markdown",
      "metadata": {},
      "source": [
        "# 8. Kesimpulan"
      ]
    },
    {
      "cell_type": "markdown",
      "metadata": {},
      "source": [
        "- Analisis performa model berdasarkan metrik evaluasi.\n",
        "- Bandingkan hasil dengan parameter berbeda (`max_depth`, `min_samples_split`, dll.).\n",
        "- Tentukan fitur paling berpengaruh dari visualisasi Decision Tree.\n",
        "- Tarik kesimpulan tentang seberapa baik Decision Tree memprediksi *Credit Score*."
      ]
    }
  ],
  "metadata": {
    "colab": {
      "provenance": []
    },
    "kernelspec": {
      "display_name": "Python 3",
      "name": "python3"
    },
    "language_info": {
      "name": "python"
    }
  },
  "nbformat": 4,
  "nbformat_minor": 0
}
